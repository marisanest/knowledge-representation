{
 "cells": [
  {
   "cell_type": "code",
   "execution_count": 2,
   "metadata": {
    "collapsed": false
   },
   "outputs": [],
   "source": [
    "import numpy as np\n",
    "import matplotlib.pyplot as plt\n",
    "%matplotlib inline"
   ]
  },
  {
   "cell_type": "code",
   "execution_count": 3,
   "metadata": {
    "collapsed": false
   },
   "outputs": [],
   "source": [
    "def get_bandit_function(bandits_means, bandits_sigma=1):\n",
    "    def bandit_function(action):\n",
    "        if action >= 0 and action < len(bandits_means):\n",
    "            return np.random.normal(bandits_means[action], bandits_sigma)\n",
    "        else: \n",
    "            raise Exception(\"Wrong action: %s\"%(action))\n",
    "    return bandit_function"
   ]
  },
  {
   "cell_type": "code",
   "execution_count": 4,
   "metadata": {
    "collapsed": false
   },
   "outputs": [],
   "source": [
    "bandit_means = [-2.04402703, 0.78691329, -1.51854861, -0.74964035, 0.87538815, 1.51307674, \n",
    "                -1.43232683, -0.62838404, -0.03584927, -0.29624793]"
   ]
  },
  {
   "cell_type": "code",
   "execution_count": 5,
   "metadata": {
    "collapsed": false
   },
   "outputs": [
    {
     "name": "stdout",
     "output_type": "stream",
     "text": [
      "0.9599918718350575\n"
     ]
    }
   ],
   "source": [
    "bandit_function = get_bandit_function(bandit_means)\n",
    "print(bandit_function(1))"
   ]
  },
  {
   "cell_type": "code",
   "execution_count": 6,
   "metadata": {
    "collapsed": false
   },
   "outputs": [],
   "source": [
    "arr = list()\n",
    "for i in range(1000):\n",
    "    arr.append(bandit_function(1))"
   ]
  },
  {
   "cell_type": "code",
   "execution_count": 7,
   "metadata": {
    "collapsed": false
   },
   "outputs": [
    {
     "data": {
      "text/plain": [
       "(array([   4.,   16.,   65.,  154.,  217.,  278.,  165.,   72.,   21.,    8.]),\n",
       " array([-2.63975934, -1.9722762 , -1.30479306, -0.63730993,  0.03017321,\n",
       "         0.69765635,  1.36513949,  2.03262262,  2.70010576,  3.3675889 ,\n",
       "         4.03507204]),\n",
       " <a list of 10 Patch objects>)"
      ]
     },
     "execution_count": 7,
     "metadata": {},
     "output_type": "execute_result"
    },
    {
     "data": {
      "image/png": "[encoded data removed]",
      "text/plain": [
       "<matplotlib.figure.Figure at 0x113082d30>"
      ]
     },
     "metadata": {},
     "output_type": "display_data"
    }
   ],
   "source": [
    "plt.hist(arr)"
   ]
  },
  {
   "cell_type": "markdown",
   "metadata": {},
   "source": [
    "### get_new_q"
   ]
  },
  {
   "cell_type": "code",
   "execution_count": 8,
   "metadata": {
    "collapsed": true
   },
   "outputs": [],
   "source": [
    "def get_new_q(qn, n, rn):\n",
    "    return qn + (1 / n) * (rn - qn), n + 1"
   ]
  },
  {
   "cell_type": "markdown",
   "metadata": {},
   "source": [
    "### Test get_new_q"
   ]
  },
  {
   "cell_type": "code",
   "execution_count": 13,
   "metadata": {
    "collapsed": false
   },
   "outputs": [
    {
     "name": "stdout",
     "output_type": "stream",
     "text": [
      "3.0\n",
      "2\n",
      "2.5\n",
      "3\n"
     ]
    }
   ],
   "source": [
    "qn = 0\n",
    "n  = 1\n",
    "rn = 3\n",
    "qn, n = get_new_q(qn, n, rn)\n",
    "print(qn)\n",
    "print(n)\n",
    "rn = 2\n",
    "qn, n = get_new_q(qn, n, rn)\n",
    "print(qn)\n",
    "print(n)"
   ]
  },
  {
   "cell_type": "markdown",
   "metadata": {},
   "source": [
    "### get_new_avg"
   ]
  },
  {
   "cell_type": "code",
   "execution_count": 14,
   "metadata": {
    "collapsed": true
   },
   "outputs": [],
   "source": [
    "def get_new_avg(old_avg, n, new_value):\n",
    "    return ((old_avg * n) + new_value) / (n + 1)"
   ]
  },
  {
   "cell_type": "markdown",
   "metadata": {},
   "source": [
    "### Test get_new_avg()"
   ]
  },
  {
   "cell_type": "code",
   "execution_count": 27,
   "metadata": {
    "collapsed": false
   },
   "outputs": [
    {
     "name": "stdout",
     "output_type": "stream",
     "text": [
      "3.5\n",
      "3.5\n"
     ]
    }
   ],
   "source": [
    "arr1 = np.array([1,2,3,4,5,6])\n",
    "print(np.average(arr1))\n",
    "\n",
    "arr2 = np.array([1,2,3,4,5])\n",
    "print(get_new_avg(np.average(arr2), arr2.size, 6))"
   ]
  },
  {
   "cell_type": "markdown",
   "metadata": {},
   "source": [
    "### get_max_qs"
   ]
  },
  {
   "cell_type": "code",
   "execution_count": 136,
   "metadata": {
    "collapsed": true
   },
   "outputs": [],
   "source": [
    "def get_max_qs(qs):\n",
    "    tmp_qs = np.array(qs)\n",
    "    max_qs = np.array([], dtype=int)\n",
    "    max_q = np.amax(tmp_qs)\n",
    "    for i in range(tmp_qs.size):\n",
    "        if np.amax(tmp_qs) == max_q:\n",
    "            max_qs = np.append(max_qs, np.argmax(tmp_qs))\n",
    "            tmp_qs[np.argmax(tmp_qs)] = np.amin(tmp_qs) - 1\n",
    "        else:\n",
    "            break\n",
    "    return max_qs"
   ]
  },
  {
   "cell_type": "markdown",
   "metadata": {},
   "source": [
    "### Test get_max_qs"
   ]
  },
  {
   "cell_type": "code",
   "execution_count": 137,
   "metadata": {
    "collapsed": false
   },
   "outputs": [
    {
     "name": "stdout",
     "output_type": "stream",
     "text": [
      "[5]\n",
      "[1 3 5]\n",
      "[0 1 2 3 4 5]\n"
     ]
    }
   ],
   "source": [
    "print(get_max_qs(np.array([0,0,0,0,0,1])))\n",
    "print(get_max_qs(np.array([0,1,0,1,0,1])))\n",
    "print(get_max_qs(np.array([1,1,1,1,1,1])))"
   ]
  },
  {
   "cell_type": "markdown",
   "metadata": {},
   "source": [
    "### choose_action"
   ]
  },
  {
   "cell_type": "code",
   "execution_count": 138,
   "metadata": {
    "collapsed": true
   },
   "outputs": [],
   "source": [
    "def choose_action(epsilon, qs):\n",
    "    if (np.random.randint(0, 100, dtype=int) + 1) / 100 <= epsilon:\n",
    "        return np.random.randint(0, qs.size, dtype=int)\n",
    "    else:\n",
    "        max_qs = get_max_qs(qs) \n",
    "        return max_qs[np.random.randint(0, max_qs.size, dtype=int)]"
   ]
  },
  {
   "cell_type": "markdown",
   "metadata": {},
   "source": [
    "### Test choose_action"
   ]
  },
  {
   "cell_type": "code",
   "execution_count": 139,
   "metadata": {
    "collapsed": false
   },
   "outputs": [
    {
     "name": "stdout",
     "output_type": "stream",
     "text": [
      "2\n",
      "1\n",
      "0\n",
      "2\n",
      "0\n",
      "2\n",
      "2\n",
      "---------------------------------\n",
      "0\n",
      "2\n",
      "2\n",
      "0\n",
      "1\n",
      "0\n",
      "1\n"
     ]
    }
   ],
   "source": [
    "print(choose_action(0, np.array([0,0,1])))\n",
    "print(choose_action(0, np.array([0,1,0])))\n",
    "print(choose_action(0, np.array([1,0,0])))\n",
    "print(choose_action(0, np.array([0,1,1])))\n",
    "print(choose_action(0, np.array([1,1,0])))\n",
    "print(choose_action(0, np.array([1,0,1])))\n",
    "print(choose_action(0, np.array([1,1,1])))\n",
    "print('---------------------------------')\n",
    "print(choose_action(1, np.array([0,0,1])))\n",
    "print(choose_action(1, np.array([0,1,0])))\n",
    "print(choose_action(1, np.array([1,0,0])))\n",
    "print(choose_action(1, np.array([0,1,1])))\n",
    "print(choose_action(1, np.array([1,1,0])))\n",
    "print(choose_action(1, np.array([1,0,1])))\n",
    "print(choose_action(1, np.array([1,1,1])))"
   ]
  },
  {
   "cell_type": "markdown",
   "metadata": {},
   "source": [
    "### get_average_rewards"
   ]
  },
  {
   "cell_type": "code",
   "execution_count": 156,
   "metadata": {
    "collapsed": false
   },
   "outputs": [],
   "source": [
    "def get_average_rewards(epsilon=0.1, optimistic=0., nb_runs=2000, nb_steps=1000):\n",
    "    \"\"\"\n",
    "    Compute the average reward for different 10-armed bandit problems.\n",
    "    \n",
    "    Parameters\n",
    "    ----------\n",
    "    epsilon : float\n",
    "        epsilon: probability of chosing a random action (exploration).\n",
    "    optimistic: float\n",
    "        Initial value value of all action-values.\n",
    "    nb_runs: int\n",
    "        Number of runs with different 10-armed bandits for the averaging.\n",
    "    nb_steps: int\n",
    "        Number of steps. How often each bandit is played.\n",
    "    \n",
    "    Returns\n",
    "    -------\n",
    "    numpy array (dtype: double)\n",
    "        averaged rewards. i-th element in the array contains the average reward at iteration step i.\n",
    "    numpy array (dtype: double)\n",
    "        averaged percentage of using the optimal action.\n",
    "    \"\"\"\n",
    "    avg_optimal_action = np.zeros(nb_steps)\n",
    "    avg_rewards = np.zeros(nb_steps)\n",
    "    \n",
    "    for j in range(nb_runs):\n",
    "        bandit_means = np.random.normal(1, 1, 10)\n",
    "        bandit_function = get_bandit_function(bandit_means)\n",
    "        optimal_action = np.argmax(bandit_means)\n",
    "        qs = np.array([[optimistic, optimistic, optimistic, optimistic, optimistic, \n",
    "                           optimistic, optimistic, optimistic, optimistic, optimistic],\n",
    "                            np.ones(10)])\n",
    "    \n",
    "        for i in range(nb_steps):\n",
    "            action = choose_action(epsilon, qs[0])\n",
    "            if action == optimal_action:\n",
    "                avg_optimal_action[i] = get_new_avg(avg_optimal_action[i], (j + 1), 1)\n",
    "            reward = bandit_function(action)\n",
    "            avg_rewards[i] = get_new_avg(avg_rewards[i], (j + 1), reward)\n",
    "            qs[0][action], qs[1][action] = get_new_q(qs[0][action], qs[1][action], reward)\n",
    "    \n",
    "    return avg_rewards, avg_optimal_action    "
   ]
  },
  {
   "cell_type": "code",
   "execution_count": 160,
   "metadata": {
    "collapsed": false
   },
   "outputs": [],
   "source": [
    "avg_rewards_e01, optimal_actions_e01 = get_average_rewards(epsilon=0.1, optimistic=0.)\n",
    "avg_rewards_e005, optimal_actions_e005 = get_average_rewards(epsilon=0.05, optimistic=0.)\n",
    "avg_rewards_e001, optimal_actions_e001 = get_average_rewards(epsilon=0.01, optimistic=0.)\n",
    "avg_rewards_greedy, optimal_actions_greedy = get_average_rewards(epsilon=0, optimistic=0.)"
   ]
  },
  {
   "cell_type": "code",
   "execution_count": 161,
   "metadata": {
    "collapsed": false
   },
   "outputs": [
    {
     "data": {
      "text/plain": [
       "<matplotlib.text.Text at 0x1169ca668>"
      ]
     },
     "execution_count": 161,
     "metadata": {},
     "output_type": "execute_result"
    },
    {
     "data": {
      "image/png": "[encoded data removed]",
      "text/plain": [
       "<matplotlib.figure.Figure at 0x11690f780>"
      ]
     },
     "metadata": {},
     "output_type": "display_data"
    }
   ],
   "source": [
    "nb_steps = 1000\n",
    "plt.plot(np.arange(nb_steps), avg_rewards_e01, label='$\\epsilon=0.1$')\n",
    "plt.plot(np.arange(nb_steps), avg_rewards_e005, label='$\\epsilon=0.05$')\n",
    "plt.plot(np.arange(nb_steps), avg_rewards_e001, label='$\\epsilon=0.01$')\n",
    "plt.plot(np.arange(nb_steps), avg_rewards_greedy, label='greedy')\n",
    "\n",
    "plt.legend(loc=4)\n",
    "plt.xlabel(\"steps\")\n",
    "plt.ylabel(\"average reward\")"
   ]
  },
  {
   "cell_type": "code",
   "execution_count": 162,
   "metadata": {
    "collapsed": false
   },
   "outputs": [
    {
     "data": {
      "text/plain": [
       "<matplotlib.text.Text at 0x1164586d8>"
      ]
     },
     "execution_count": 162,
     "metadata": {},
     "output_type": "execute_result"
    },
    {
     "data": {
      "image/png": "[encoded data removed]",
      "text/plain": [
       "<matplotlib.figure.Figure at 0x11609f198>"
      ]
     },
     "metadata": {},
     "output_type": "display_data"
    }
   ],
   "source": [
    "plt.plot(np.arange(nb_steps), optimal_actions_e01, label='$\\epsilon=0.1$')\n",
    "plt.plot(np.arange(nb_steps), optimal_actions_e005, label='$\\epsilon=0.05$')\n",
    "plt.plot(np.arange(nb_steps), optimal_actions_e001, label='$\\epsilon=0.01$')\n",
    "plt.plot(np.arange(nb_steps), optimal_actions_greedy, label='greedy')\n",
    "\n",
    "plt.legend(loc=4)\n",
    "plt.ylim(0., 1.05)\n",
    "plt.xlabel(\"steps\")\n",
    "plt.ylabel(\"% optimal action\")"
   ]
  },
  {
   "cell_type": "markdown",
   "metadata": {},
   "source": [
    "### cumulative reward"
   ]
  },
  {
   "cell_type": "code",
   "execution_count": 182,
   "metadata": {
    "collapsed": false
   },
   "outputs": [
    {
     "name": "stdout",
     "output_type": "stream",
     "text": [
      "cumulative reward e=0.1: 2291.96534747\n",
      "cumulative reward e=0.05: 2287.078358\n",
      "cumulative reward e=0.01: 1989.13487873\n",
      "cumulative reward e=0: 1482.15802798\n"
     ]
    }
   ],
   "source": [
    "cumulative_reward_e01 = np.sum(avg_rewards_e01)\n",
    "cumulative_reward_e005 = np.sum(avg_rewards_e005)\n",
    "cumulative_reward_e001 = np.sum(avg_rewards_e001)\n",
    "cumulative_reward_greedy = np.sum(avg_rewards_greedy)\n",
    "\n",
    "print(\"cumulative reward e=0.1: %s\" %(cumulative_reward_e01))\n",
    "print(\"cumulative reward e=0.05: %s\" %(cumulative_reward_e005))\n",
    "print(\"cumulative reward e=0.01: %s\" %(cumulative_reward_e001))\n",
    "print(\"cumulative reward e=0: %s\" %(cumulative_reward_greedy))"
   ]
  },
  {
   "cell_type": "markdown",
   "metadata": {},
   "source": [
    "### cumulative probability of selecting"
   ]
  },
  {
   "cell_type": "code",
   "execution_count": 183,
   "metadata": {
    "collapsed": false
   },
   "outputs": [
    {
     "name": "stdout",
     "output_type": "stream",
     "text": [
      "cumulative probability of selecting e=0.1: 977.722440806\n",
      "cumulative probability of selecting e=0.05: 976.403182273\n",
      "cumulative probability of selecting e=0.01: 920.303755008\n",
      "cumulative probability of selecting e=0: 813.906238543\n"
     ]
    }
   ],
   "source": [
    "cumulative_probability_of_selecting_e01 = np.sum(optimal_actions_e01)\n",
    "cumulative_probability_of_selecting_e005 = np.sum(optimal_actions_e005)\n",
    "cumulative_probability_of_selecting_e001 = np.sum(optimal_actions_e001)\n",
    "cumulative_probability_of_selecting_greedy = np.sum(optimal_actions_greedy)\n",
    "\n",
    "print(\"cumulative probability of selecting e=0.1: %s\" %(cumulative_probability_of_selecting_e01))\n",
    "print(\"cumulative probability of selecting e=0.05: %s\" %(cumulative_probability_of_selecting_e005))\n",
    "print(\"cumulative probability of selecting e=0.01: %s\" %(cumulative_probability_of_selecting_e001))\n",
    "print(\"cumulative probability of selecting e=0: %s\" %(cumulative_probability_of_selecting_greedy))"
   ]
  },
  {
   "cell_type": "markdown",
   "metadata": {
    "collapsed": true
   },
   "source": [
    "### Optimistic Initial Values\n",
    "All the methods we have discussed so far are **dependent to some extent on the initial action-value estimates**, Q1(a). In the language of statistics, these methods are **biased by their initial estimates**. For the sample-average methods, the bias disappears once all actions have been selected at least once, but for methods **with constant α, the bias is permanent**, though decreasing over time as given by (2.6). In practice, this kind of **bias is usually not a problem and can sometimes be very helpful**. The **downside** is that the initial estimates become, in effect, a set of parameters that **must be picked by the user**, if only to set them all to zero. The **upside** is that they provide an **easy way to supply some prior knowledge about what level of rewards can be expected**.\n",
    "Initial action values can also be **used as a simple way of encouraging exploration**. Suppose that instead of setting the initial action values to zero, as we did in the 10-armed testbed, we set them all to +5. Recall that the q∗(a) in this problem are selected from a normal distribution with mean 0 and variance 1. An initial estimate of +5 is thus wildly optimistic. But this optimism encourages action-value methods to explore. Whichever actions are initially selected, the reward is less than the starting estimates; the learner switches to other actions, being “disappointed” with the rewards it is receiving. The result is that all actions are tried several times before the value estimates converge. The system does a fair amount of exploration even if greedy actions are selected all the time."
   ]
  },
  {
   "cell_type": "code",
   "execution_count": 163,
   "metadata": {
    "collapsed": true
   },
   "outputs": [],
   "source": [
    "avg_rewards_e01_optimistic, optimal_actions_e01_optimistic = get_average_rewards(epsilon=0.1, optimistic=5.)"
   ]
  },
  {
   "cell_type": "code",
   "execution_count": 174,
   "metadata": {
    "collapsed": false
   },
   "outputs": [
    {
     "data": {
      "text/plain": [
       "<matplotlib.text.Text at 0x1178069b0>"
      ]
     },
     "execution_count": 174,
     "metadata": {},
     "output_type": "execute_result"
    },
    {
     "data": {
      "image/png": "[encoded data removed]",
      "text/plain": [
       "<matplotlib.figure.Figure at 0x1177c81d0>"
      ]
     },
     "metadata": {},
     "output_type": "display_data"
    }
   ],
   "source": [
    "plt.plot(np.arange(nb_steps), avg_rewards_e01, label='$\\epsilon=0.1$ $optimistic=0$')\n",
    "plt.plot(np.arange(nb_steps), avg_rewards_e01_optimistic, label='$\\epsilon=0.1$ $optimistic=5$')\n",
    "\n",
    "plt.legend(loc=4)\n",
    "plt.xlabel(\"steps\")\n",
    "plt.ylabel(\"average reward\")"
   ]
  },
  {
   "cell_type": "code",
   "execution_count": 175,
   "metadata": {
    "collapsed": false
   },
   "outputs": [
    {
     "data": {
      "text/plain": [
       "<matplotlib.text.Text at 0x11728ba90>"
      ]
     },
     "execution_count": 175,
     "metadata": {},
     "output_type": "execute_result"
    },
    {
     "data": {
      "image/png": "[encoded data removed]",
      "text/plain": [
       "<matplotlib.figure.Figure at 0x1170e0208>"
      ]
     },
     "metadata": {},
     "output_type": "display_data"
    }
   ],
   "source": [
    "plt.plot(np.arange(nb_steps), optimal_actions_e01, label='$\\epsilon=0.1$ $optimistic=0$')\n",
    "plt.plot(np.arange(nb_steps), optimal_actions_e01_optimistic, label='$\\epsilon=0.1$ $optimistic=5$')\n",
    "\n",
    "plt.legend(loc=4)\n",
    "plt.ylim(0., 1.05)\n",
    "plt.xlabel(\"steps\")\n",
    "plt.ylabel(\"% optimal action\")"
   ]
  },
  {
   "cell_type": "code",
   "execution_count": null,
   "metadata": {
    "collapsed": true
   },
   "outputs": [],
   "source": []
  }
 ],
 "metadata": {
  "kernelspec": {
   "display_name": "Python 3",
   "language": "python",
   "name": "python3"
  },
  "language_info": {
   "codemirror_mode": {
    "name": "ipython",
    "version": 3
   },
   "file_extension": ".py",
   "mimetype": "text/x-python",
   "name": "python",
   "nbconvert_exporter": "python",
   "pygments_lexer": "ipython3",
   "version": "3.6.0"
  }
 },
 "nbformat": 4,
 "nbformat_minor": 2
}
