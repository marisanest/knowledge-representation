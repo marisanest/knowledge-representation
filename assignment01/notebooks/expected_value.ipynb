{
 "cells": [
  {
   "cell_type": "markdown",
   "metadata": {
    "collapsed": true
   },
   "source": [
    "### Berechnen Sie den Erwartungswert \n",
    "\n",
    "* mit $ x∼p[f(x)] $ mit $ f(x) = x2 $\n",
    "* mit numpy und dem diskretisierten ```python x: x = np.linspace(0,4, int(10e5)) ```"
   ]
  },
  {
   "cell_type": "code",
   "execution_count": null,
   "metadata": {
    "collapsed": true
   },
   "outputs": [],
   "source": [
    "import numpy as np"
   ]
  },
  {
   "cell_type": "markdown",
   "metadata": {},
   "source": [
    "### Beweis\n",
    "Neuberechung von c, da nun mit diskretisiertem x gerechnet wird\n",
    "* Da: $ \\displaystyle\\sum_{i=0}^{n} cx_i = 1 $\n",
    "* Folgt: $ c = \\frac{1}{\\displaystyle\\sum_{i=0}^{n} x_i} $\n",
    "* ```python c = 1/x.sum() ```"
   ]
  },
  {
   "cell_type": "code",
   "execution_count": 7,
   "metadata": {
    "collapsed": false
   },
   "outputs": [
    {
     "data": {
      "text/plain": [
       "8.0000080000079983"
      ]
     },
     "execution_count": 7,
     "metadata": {},
     "output_type": "execute_result"
    }
   ],
   "source": [
    "x = np.linspace(0,4, int(10e5))\n",
    "c = 1/x.sum()\n",
    "\n",
    "p = lambda c, x: c * x\n",
    "f = lambda x: x*x\n",
    "\n",
    "(f(x)*p(c, x)).sum()"
   ]
  },
  {
   "cell_type": "code",
   "execution_count": null,
   "metadata": {
    "collapsed": true
   },
   "outputs": [],
   "source": []
  }
 ],
 "metadata": {
  "kernelspec": {
   "display_name": "Python 3",
   "language": "python",
   "name": "python3"
  },
  "language_info": {
   "codemirror_mode": {
    "name": "ipython",
    "version": 3
   },
   "file_extension": ".py",
   "mimetype": "text/x-python",
   "name": "python",
   "nbconvert_exporter": "python",
   "pygments_lexer": "ipython3",
   "version": "3.6.0"
  }
 },
 "nbformat": 4,
 "nbformat_minor": 2
}
