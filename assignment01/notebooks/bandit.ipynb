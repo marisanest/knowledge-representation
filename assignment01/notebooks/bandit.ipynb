{
 "cells": [
  {
   "cell_type": "code",
   "execution_count": 3,
   "metadata": {
    "collapsed": false
   },
   "outputs": [],
   "source": [
    "import numpy as np\n",
    "import matplotlib.pyplot as plt\n",
    "import unittest\n",
    "from unittest import *\n",
    "%matplotlib inline"
   ]
  },
  {
   "cell_type": "markdown",
   "metadata": {},
   "source": [
    "## 2. Implement the 10-armed Testbed (see chapter 2.3 of [Sut17])\n",
    "* Create an ipython notebook and solve the further exercises in this notebook.\n",
    "* Provide a function def get_bandit_function(bandits_means, bandits_sigma=1) which gets the means of the bandits (bandits_means is a numpy array). The function should return a python function. The returned function gets an action as input and returns a sample reward for the action"
   ]
  },
  {
   "cell_type": "code",
   "execution_count": 4,
   "metadata": {
    "collapsed": false
   },
   "outputs": [],
   "source": [
    "def get_bandit_function(bandits_means, bandits_sigma=1):\n",
    "    def bandit_function(action):\n",
    "        if action >= 0 and action < len(bandits_means):\n",
    "            return np.random.normal(bandits_means[action], bandits_sigma)\n",
    "        else: \n",
    "            raise Exception(\"Wrong action: %s\"%(action))\n",
    "    return bandit_function"
   ]
  },
  {
   "cell_type": "markdown",
   "metadata": {},
   "source": [
    "### Test for get_bandit_function"
   ]
  },
  {
   "cell_type": "code",
   "execution_count": 5,
   "metadata": {
    "collapsed": false
   },
   "outputs": [],
   "source": [
    "bandit_means = [-2.04402703, 0.78691329, -1.51854861, -0.74964035, 0.87538815, 1.51307674, \n",
    "                -1.43232683, -0.62838404, -0.03584927, -0.29624793]"
   ]
  },
  {
   "cell_type": "code",
   "execution_count": 6,
   "metadata": {
    "collapsed": false
   },
   "outputs": [
    {
     "name": "stdout",
     "output_type": "stream",
     "text": [
      "2.041465788764337\n"
     ]
    }
   ],
   "source": [
    "bandit_function = get_bandit_function(bandit_means)\n",
    "print(bandit_function(1))"
   ]
  },
  {
   "cell_type": "code",
   "execution_count": 7,
   "metadata": {
    "collapsed": false
   },
   "outputs": [],
   "source": [
    "arr = list()\n",
    "for i in range(1000):\n",
    "    arr.append(bandit_function(1))"
   ]
  },
  {
   "cell_type": "code",
   "execution_count": 8,
   "metadata": {
    "collapsed": false
   },
   "outputs": [
    {
     "data": {
      "text/plain": [
       "(array([   1.,    1.,   15.,  121.,  302.,  313.,  185.,   54.,    7.,    1.]),\n",
       " array([-3.95264436, -3.04489894, -2.13715351, -1.22940808, -0.32166266,\n",
       "         0.58608277,  1.49382819,  2.40157362,  3.30931905,  4.21706447,\n",
       "         5.1248099 ]),\n",
       " <a list of 10 Patch objects>)"
      ]
     },
     "execution_count": 8,
     "metadata": {},
     "output_type": "execute_result"
    },
    {
     "data": {
      "image/png": "[encoded data removed]",
      "text/plain": [
       "<matplotlib.figure.Figure at 0x108bdfa90>"
      ]
     },
     "metadata": {},
     "output_type": "display_data"
    }
   ],
   "source": [
    "plt.hist(arr)"
   ]
  },
  {
   "cell_type": "markdown",
   "metadata": {},
   "source": [
    "## 3. Implementation of a simple ϵ-greedy bandit algorithm\n",
    "* Implement the action-value method (chapter 2.2 of [Sut17]) with the incremental implementation (chapter 2.4 of [Sut17]).\n",
    "* Use the get_bandit_function.\n",
    "* Use numpy build-in function for performance."
   ]
  },
  {
   "cell_type": "markdown",
   "metadata": {},
   "source": [
    "### calculate_avg\n",
    "* calculate avg for n, with given avg for n-1"
   ]
  },
  {
   "cell_type": "code",
   "execution_count": 9,
   "metadata": {
    "collapsed": true
   },
   "outputs": [],
   "source": [
    "def calculate_avg(avg, n, value):\n",
    "    return avg + (1 / n) * (value - avg) # bzw. ((avg * (n - 1)) + value) / n"
   ]
  },
  {
   "cell_type": "markdown",
   "metadata": {},
   "source": [
    "### Test for calculate_avg"
   ]
  },
  {
   "cell_type": "code",
   "execution_count": 10,
   "metadata": {
    "collapsed": false
   },
   "outputs": [
    {
     "name": "stderr",
     "output_type": "stream",
     "text": [
      ".....\n",
      "----------------------------------------------------------------------\n",
      "Ran 5 tests in 0.010s\n",
      "\n",
      "OK\n"
     ]
    },
    {
     "data": {
      "text/plain": [
       "<unittest.runner.TextTestResult run=5 errors=0 failures=0>"
      ]
     },
     "execution_count": 10,
     "metadata": {},
     "output_type": "execute_result"
    }
   ],
   "source": [
    "class TestCalculateAvg(TestCase):\n",
    "    def test_calculate_avg_1 (self):\n",
    "        arr1 = np.array([1,2,3,4,5,6])\n",
    "        arr2 = np.array([1,2,3,4,5])\n",
    "        self.assertEqual(np.average(arr1), calculate_avg(np.average(arr2), (arr2.size + 1), 6))\n",
    "        \n",
    "    def test_calculate_avg_2 (self):\n",
    "        arr1 = np.array([1])\n",
    "        self.assertEqual(np.average(arr1), calculate_avg(0, 1, 1))\n",
    "        \n",
    "    def test_calculate_avg_3 (self):\n",
    "        arr1 = np.array([0,0,0,1])\n",
    "        self.assertEqual(np.average(arr1), calculate_avg(0, 4, 1))\n",
    "        \n",
    "    def test_calculate_avg_4 (self):\n",
    "        self.assertEqual(1, calculate_avg(0, 1, 1))\n",
    "        \n",
    "    def test_calculate_avg_5 (self):\n",
    "        arr1 = np.array([1])\n",
    "        arr2 = np.array([])\n",
    "        self.assertEqual(np.average(arr1), calculate_avg(0, (arr2.size + 1), 1))\n",
    "    \n",
    "unittest.TextTestRunner().run(unittest.TestLoader().loadTestsFromModule(TestCalculateAvg()))"
   ]
  },
  {
   "cell_type": "markdown",
   "metadata": {},
   "source": [
    "### calculate_q\n",
    "* calculate q for n+1"
   ]
  },
  {
   "cell_type": "code",
   "execution_count": 11,
   "metadata": {
    "collapsed": true
   },
   "outputs": [],
   "source": [
    "def calculate_q(qn, n, rn):\n",
    "    return calculate_avg(qn, n, rn) # bzw. qn + (1 / n) * (rn - qn)"
   ]
  },
  {
   "cell_type": "markdown",
   "metadata": {},
   "source": [
    "### Test calculate_q"
   ]
  },
  {
   "cell_type": "code",
   "execution_count": 12,
   "metadata": {
    "collapsed": false
   },
   "outputs": [
    {
     "name": "stderr",
     "output_type": "stream",
     "text": [
      "..\n",
      "----------------------------------------------------------------------\n",
      "Ran 2 tests in 0.004s\n",
      "\n",
      "OK\n"
     ]
    },
    {
     "data": {
      "text/plain": [
       "<unittest.runner.TextTestResult run=2 errors=0 failures=0>"
      ]
     },
     "execution_count": 12,
     "metadata": {},
     "output_type": "execute_result"
    }
   ],
   "source": [
    "class TestCalculateQ(TestCase):\n",
    "    def test_calculate_q_1 (self):\n",
    "        self.assertEqual(calculate_q(0, 1, 3), 3.0)\n",
    "    \n",
    "    def test_calculate_q_2 (self):\n",
    "        self.assertEqual(calculate_q(3.0, 2, 2), 2.5)\n",
    "        \n",
    "unittest.TextTestRunner().run(unittest.TestLoader().loadTestsFromModule(TestCalculateQ()))"
   ]
  },
  {
   "cell_type": "markdown",
   "metadata": {},
   "source": [
    "### all_argmax\n",
    "* returns all indexes of the maximum values of the given array"
   ]
  },
  {
   "cell_type": "code",
   "execution_count": 13,
   "metadata": {
    "collapsed": true
   },
   "outputs": [],
   "source": [
    "def all_argmax(arr):\n",
    "    tmp_arr = np.array(arr)\n",
    "    argmax_arr = np.array([], dtype=int)\n",
    "    amax = np.amax(tmp_arr)\n",
    "    for i in range(tmp_arr.size):\n",
    "        if np.amax(tmp_arr) == amax:\n",
    "            argmax_arr = np.append(argmax_arr, np.argmax(tmp_arr))\n",
    "            tmp_arr[np.argmax(tmp_arr)] = np.amin(tmp_arr) - 1\n",
    "        else:\n",
    "            break\n",
    "    return argmax_arr"
   ]
  },
  {
   "cell_type": "markdown",
   "metadata": {},
   "source": [
    "### Test all_argmax"
   ]
  },
  {
   "cell_type": "code",
   "execution_count": 14,
   "metadata": {
    "collapsed": false
   },
   "outputs": [
    {
     "name": "stderr",
     "output_type": "stream",
     "text": [
      "...\n",
      "----------------------------------------------------------------------\n",
      "Ran 3 tests in 0.007s\n",
      "\n",
      "OK\n"
     ]
    },
    {
     "data": {
      "text/plain": [
       "<unittest.runner.TextTestResult run=3 errors=0 failures=0>"
      ]
     },
     "execution_count": 14,
     "metadata": {},
     "output_type": "execute_result"
    }
   ],
   "source": [
    "class TestAllArgmax(TestCase):\n",
    "    def test_all_argmax_1(self):\n",
    "        arr = all_argmax(np.array([0,0,0,0,0,1]))\n",
    "        comp_arr = np.array([5])\n",
    "        self.assertTrue((isinstance(arr, np.ndarray) and arr.shape == comp_arr.shape and \n",
    "            np.allclose(arr, comp_arr)))\n",
    "    \n",
    "    def test_all_argmax_2(self):\n",
    "        arr = all_argmax(np.array([0,1,0,1,0,1]))\n",
    "        comp_arr = np.array([1,3,5])\n",
    "        self.assertTrue((isinstance(arr, np.ndarray) and arr.shape == comp_arr.shape and \n",
    "            np.allclose(arr, comp_arr)))\n",
    "                         \n",
    "    def test_all_argmax_3(self):\n",
    "        arr = all_argmax(np.array([1,1,1,1,1,1]))\n",
    "        comp_arr = np.array([0,1,2,3,4,5])\n",
    "        self.assertTrue((isinstance(arr, np.ndarray) and arr.shape == comp_arr.shape and \n",
    "            np.allclose(arr, comp_arr)))\n",
    "    \n",
    "unittest.TextTestRunner().run(unittest.TestLoader().loadTestsFromModule(TestAllArgmax()))"
   ]
  },
  {
   "cell_type": "markdown",
   "metadata": {},
   "source": [
    "### choose_action\n",
    "* choose an action with regard to a specific epsilon"
   ]
  },
  {
   "cell_type": "code",
   "execution_count": 15,
   "metadata": {
    "collapsed": true
   },
   "outputs": [],
   "source": [
    "def choose_action(epsilon, qs):\n",
    "    if (np.random.randint(0, 100, dtype=int) + 1) / 100 <= epsilon:\n",
    "        return np.random.randint(0, qs.size, dtype=int)\n",
    "    else:\n",
    "        argmax_qs = all_argmax(qs) \n",
    "        return argmax_qs[np.random.randint(0, argmax_qs.size, dtype=int)]"
   ]
  },
  {
   "cell_type": "markdown",
   "metadata": {},
   "source": [
    "### Test choose_action"
   ]
  },
  {
   "cell_type": "code",
   "execution_count": 16,
   "metadata": {
    "collapsed": false
   },
   "outputs": [
    {
     "name": "stderr",
     "output_type": "stream",
     "text": [
      "...\n",
      "----------------------------------------------------------------------\n",
      "Ran 3 tests in 6.135s\n",
      "\n",
      "OK\n"
     ]
    },
    {
     "data": {
      "text/plain": [
       "<unittest.runner.TextTestResult run=3 errors=0 failures=0>"
      ]
     },
     "execution_count": 16,
     "metadata": {},
     "output_type": "execute_result"
    }
   ],
   "source": [
    "class TestChooseAction(TestCase):\n",
    "    def test_choose_action_1(self):\n",
    "        self.assertEqual(choose_action(0, np.array([0,0,1])), 2)\n",
    "        self.assertEqual(choose_action(0, np.array([0,1,0])), 1)\n",
    "        self.assertEqual(choose_action(0, np.array([1,0,0])), 0)\n",
    "        self.assertIn(choose_action(0, np.array([1,1,0])), [0,1])\n",
    "        self.assertIn(choose_action(0, np.array([0,1,1])), [1,2])\n",
    "        self.assertIn(choose_action(0, np.array([1,0,1])), [0,2])\n",
    "        \n",
    "    def test_choose_action_2(self):\n",
    "        counter = 0\n",
    "        for i in range(100000):\n",
    "            if choose_action(1, np.array([0,1])) == 0:\n",
    "                counter += 1  \n",
    "        \n",
    "        self.assertAlmostEqual((counter/100000), 0.5, places=2)\n",
    "        \n",
    "    def test_choose_action_3(self):\n",
    "        counter = 0\n",
    "        for i in range(100000):\n",
    "            if choose_action(0.5, np.array([0,1])) == 0:\n",
    "                counter += 1  \n",
    "        \n",
    "        self.assertAlmostEqual((counter/100000), 0.25, places=2)\n",
    "        \n",
    "        \n",
    "        \n",
    "unittest.TextTestRunner().run(unittest.TestLoader().loadTestsFromModule(TestChooseAction()))"
   ]
  },
  {
   "cell_type": "markdown",
   "metadata": {},
   "source": [
    "### get_average_rewards\n",
    "* Compute the average reward and averaged percentage of using the optimal action for different 10-armed bandit problems"
   ]
  },
  {
   "cell_type": "code",
   "execution_count": 19,
   "metadata": {
    "collapsed": false
   },
   "outputs": [],
   "source": [
    "def get_average_rewards(epsilon=0.1, optimistic=0., nb_runs=2000, nb_steps=1000):\n",
    "    \"\"\"\n",
    "    Compute the average reward for different 10-armed bandit problems.\n",
    "    \n",
    "    Parameters\n",
    "    ----------\n",
    "    epsilon : float\n",
    "        epsilon: probability of chosing a random action (exploration).\n",
    "    optimistic: float\n",
    "        Initial value value of all action-values.\n",
    "    nb_runs: int\n",
    "        Number of runs with different 10-armed bandits for the averaging.\n",
    "    nb_steps: int\n",
    "        Number of steps. How often each bandit is played.\n",
    "    \n",
    "    Returns\n",
    "    -------\n",
    "    numpy array (dtype: double)\n",
    "        averaged rewards. i-th element in the array contains the average reward at iteration step i.\n",
    "    numpy array (dtype: double)\n",
    "        averaged percentage of using the optimal action.\n",
    "    \"\"\"\n",
    "    avg_optimal_action = np.zeros(nb_steps)\n",
    "    avg_rewards = np.zeros(nb_steps)\n",
    "    \n",
    "    for run in range(nb_runs):\n",
    "        bandit_means = np.random.normal(0, 1, 10)\n",
    "        bandit_function = get_bandit_function(bandit_means)\n",
    "        optimal_action = np.argmax(bandit_means)\n",
    "        qs = np.array([[optimistic, optimistic, optimistic, optimistic, optimistic, \n",
    "                           optimistic, optimistic, optimistic, optimistic, optimistic],\n",
    "                            np.ones(10)])\n",
    "    \n",
    "        for step in range(nb_steps):\n",
    "            action = choose_action(epsilon, qs[0])\n",
    "            if action == optimal_action:\n",
    "                avg_optimal_action[step] = calculate_avg(avg_optimal_action[step], (run + 1), 1)\n",
    "            else:\n",
    "                avg_optimal_action[step] = calculate_avg(avg_optimal_action[step], (run + 1), 0)\n",
    "            reward = bandit_function(action)\n",
    "            avg_rewards[step] = calculate_avg(avg_rewards[step], (run + 2), reward)\n",
    "            qs[0][action], qs[1][action] = calculate_q(qs[0][action], qs[1][action], reward), qs[1][action] + 1\n",
    "    \n",
    "    return avg_rewards, avg_optimal_action"
   ]
  },
  {
   "cell_type": "code",
   "execution_count": 20,
   "metadata": {
    "collapsed": false
   },
   "outputs": [],
   "source": [
    "avg_rewards_e01, optimal_actions_e01 = get_average_rewards(epsilon=0.1, optimistic=0.)\n",
    "avg_rewards_e005, optimal_actions_e005 = get_average_rewards(epsilon=0.05, optimistic=0.)\n",
    "avg_rewards_e001, optimal_actions_e001 = get_average_rewards(epsilon=0.01, optimistic=0.)\n",
    "avg_rewards_greedy, optimal_actions_greedy = get_average_rewards(epsilon=0, optimistic=0.)"
   ]
  },
  {
   "cell_type": "code",
   "execution_count": 21,
   "metadata": {
    "collapsed": false
   },
   "outputs": [
    {
     "data": {
      "text/plain": [
       "<matplotlib.text.Text at 0x108db8da0>"
      ]
     },
     "execution_count": 21,
     "metadata": {},
     "output_type": "execute_result"
    },
    {
     "data": {
      "image/png": "[encoded data removed]",
      "text/plain": [
       "<matplotlib.figure.Figure at 0x108d08f60>"
      ]
     },
     "metadata": {},
     "output_type": "display_data"
    }
   ],
   "source": [
    "nb_steps = 1000\n",
    "plt.plot(np.arange(nb_steps), avg_rewards_e01, label='$\\epsilon=0.1$')\n",
    "plt.plot(np.arange(nb_steps), avg_rewards_e005, label='$\\epsilon=0.05$')\n",
    "plt.plot(np.arange(nb_steps), avg_rewards_e001, label='$\\epsilon=0.01$')\n",
    "plt.plot(np.arange(nb_steps), avg_rewards_greedy, label='greedy')\n",
    "\n",
    "plt.legend(loc=4)\n",
    "plt.xlabel(\"steps\")\n",
    "plt.ylabel(\"average reward\")"
   ]
  },
  {
   "cell_type": "code",
   "execution_count": 22,
   "metadata": {
    "collapsed": false
   },
   "outputs": [
    {
     "data": {
      "text/plain": [
       "<matplotlib.text.Text at 0x10917bc18>"
      ]
     },
     "execution_count": 22,
     "metadata": {},
     "output_type": "execute_result"
    },
    {
     "data": {
      "image/png": "[encoded data removed]",
      "text/plain": [
       "<matplotlib.figure.Figure at 0x10920c668>"
      ]
     },
     "metadata": {},
     "output_type": "display_data"
    }
   ],
   "source": [
    "plt.plot(np.arange(nb_steps), optimal_actions_e01, label='$\\epsilon=0.1$')\n",
    "plt.plot(np.arange(nb_steps), optimal_actions_e005, label='$\\epsilon=0.05$')\n",
    "plt.plot(np.arange(nb_steps), optimal_actions_e001, label='$\\epsilon=0.01$')\n",
    "plt.plot(np.arange(nb_steps), optimal_actions_greedy, label='greedy')\n",
    "\n",
    "plt.legend(loc=4)\n",
    "plt.ylim(0., 1.05)\n",
    "plt.xlabel(\"steps\")\n",
    "plt.ylabel(\"% optimal action\")"
   ]
  },
  {
   "cell_type": "markdown",
   "metadata": {},
   "source": [
    "### cumulative reward"
   ]
  },
  {
   "cell_type": "code",
   "execution_count": 23,
   "metadata": {
    "collapsed": false
   },
   "outputs": [
    {
     "name": "stdout",
     "output_type": "stream",
     "text": [
      "cumulative reward e=0.1: 1303.05547976\n",
      "cumulative reward e=0.05: 1337.16145565\n",
      "cumulative reward e=0.01: 1225.76781876\n",
      "cumulative reward e=0: 1031.77618049\n"
     ]
    }
   ],
   "source": [
    "cumulative_reward_e01 = np.sum(avg_rewards_e01)\n",
    "cumulative_reward_e005 = np.sum(avg_rewards_e005)\n",
    "cumulative_reward_e001 = np.sum(avg_rewards_e001)\n",
    "cumulative_reward_greedy = np.sum(avg_rewards_greedy)\n",
    "\n",
    "print(\"cumulative reward e=0.1: %s\" %(cumulative_reward_e01))\n",
    "print(\"cumulative reward e=0.05: %s\" %(cumulative_reward_e005))\n",
    "print(\"cumulative reward e=0.01: %s\" %(cumulative_reward_e001))\n",
    "print(\"cumulative reward e=0: %s\" %(cumulative_reward_greedy))"
   ]
  },
  {
   "cell_type": "markdown",
   "metadata": {},
   "source": [
    "### cumulative probability of selecting"
   ]
  },
  {
   "cell_type": "code",
   "execution_count": 24,
   "metadata": {
    "collapsed": false
   },
   "outputs": [
    {
     "name": "stdout",
     "output_type": "stream",
     "text": [
      "cumulative probability of selecting optimal action with e=0.1: 717.1935\n",
      "cumulative probability of selecting optimal action with e=0.05: 684.085\n",
      "cumulative probability of selecting optimal action with e=0.01: 485.27\n",
      "cumulative probability of selecting optimal action with e=0: 367.3075\n"
     ]
    }
   ],
   "source": [
    "cumulative_probability_of_selecting_e01 = np.sum(optimal_actions_e01)\n",
    "cumulative_probability_of_selecting_e005 = np.sum(optimal_actions_e005)\n",
    "cumulative_probability_of_selecting_e001 = np.sum(optimal_actions_e001)\n",
    "cumulative_probability_of_selecting_greedy = np.sum(optimal_actions_greedy)\n",
    "\n",
    "print(\"cumulative probability of selecting optimal action with e=0.1: %s\" %(cumulative_probability_of_selecting_e01))\n",
    "print(\"cumulative probability of selecting optimal action with e=0.05: %s\" %(cumulative_probability_of_selecting_e005))\n",
    "print(\"cumulative probability of selecting optimal action with e=0.01: %s\" %(cumulative_probability_of_selecting_e001))\n",
    "print(\"cumulative probability of selecting optimal action with e=0: %s\" %(cumulative_probability_of_selecting_greedy))"
   ]
  },
  {
   "cell_type": "markdown",
   "metadata": {
    "collapsed": true
   },
   "source": [
    "### Optimistic Initial Values\n",
    "All the methods we have discussed so far are **dependent to some extent on the initial action-value estimates**, Q1(a). In the language of statistics, these methods are **biased by their initial estimates**. For the sample-average methods, the bias disappears once all actions have been selected at least once, but for methods **with constant α, the bias is permanent**, though decreasing over time as given by (2.6). In practice, this kind of **bias is usually not a problem and can sometimes be very helpful**. The **downside** is that the initial estimates become, in effect, a set of parameters that **must be picked by the user**, if only to set them all to zero. The **upside** is that they provide an **easy way to supply some prior knowledge about what level of rewards can be expected**.\n",
    "Initial action values can also be **used as a simple way of encouraging exploration**. Suppose that instead of setting the initial action values to zero, as we did in the 10-armed testbed, we set them all to +5. Recall that the q∗(a) in this problem are selected from a normal distribution with mean 0 and variance 1. An initial estimate of +5 is thus wildly optimistic. But this optimism encourages action-value methods to explore. Whichever actions are initially selected, the reward is less than the starting estimates; the learner switches to other actions, being “disappointed” with the rewards it is receiving. The result is that all actions are tried several times before the value estimates converge. The system does a fair amount of exploration even if greedy actions are selected all the time."
   ]
  },
  {
   "cell_type": "code",
   "execution_count": 25,
   "metadata": {
    "collapsed": true
   },
   "outputs": [],
   "source": [
    "avg_rewards_e01_optimistic, optimal_actions_e01_optimistic = get_average_rewards(epsilon=0.1, optimistic=5)"
   ]
  },
  {
   "cell_type": "code",
   "execution_count": 26,
   "metadata": {
    "collapsed": false
   },
   "outputs": [
    {
     "data": {
      "text/plain": [
       "<matplotlib.text.Text at 0x1093ada58>"
      ]
     },
     "execution_count": 26,
     "metadata": {},
     "output_type": "execute_result"
    },
    {
     "data": {
      "image/png": "[encoded data removed]",
      "text/plain": [
       "<matplotlib.figure.Figure at 0x10936f198>"
      ]
     },
     "metadata": {},
     "output_type": "display_data"
    }
   ],
   "source": [
    "plt.plot(np.arange(nb_steps), avg_rewards_e01, label='$\\epsilon=0.1$ $optimistic=0$')\n",
    "plt.plot(np.arange(nb_steps), avg_rewards_e01_optimistic, label='$\\epsilon=0.1$ $optimistic=5$')\n",
    "\n",
    "plt.legend(loc=4)\n",
    "plt.xlabel(\"steps\")\n",
    "plt.ylabel(\"average reward\")"
   ]
  },
  {
   "cell_type": "code",
   "execution_count": 27,
   "metadata": {
    "collapsed": false
   },
   "outputs": [
    {
     "data": {
      "text/plain": [
       "<matplotlib.text.Text at 0x108f21e48>"
      ]
     },
     "execution_count": 27,
     "metadata": {},
     "output_type": "execute_result"
    },
    {
     "data": {
      "image/png": "[encoded data removed]",
      "text/plain": [
       "<matplotlib.figure.Figure at 0x109396ba8>"
      ]
     },
     "metadata": {},
     "output_type": "display_data"
    }
   ],
   "source": [
    "plt.plot(np.arange(nb_steps), optimal_actions_e01, label='$\\epsilon=0.1$ $optimistic=0$')\n",
    "plt.plot(np.arange(nb_steps), optimal_actions_e01_optimistic, label='$\\epsilon=0.1$ $optimistic=5$')\n",
    "\n",
    "plt.legend(loc=4)\n",
    "plt.ylim(0., 1.05)\n",
    "plt.xlabel(\"steps\")\n",
    "plt.ylabel(\"% optimal action\")"
   ]
  },
  {
   "cell_type": "code",
   "execution_count": null,
   "metadata": {
    "collapsed": true
   },
   "outputs": [],
   "source": [
    ""
   ]
  }
 ],
 "metadata": {
  "kernelspec": {
   "display_name": "Python 3",
   "language": "python",
   "name": "python3"
  },
  "language_info": {
   "codemirror_mode": {
    "name": "ipython",
    "version": 3.0
   },
   "file_extension": ".py",
   "mimetype": "text/x-python",
   "name": "python",
   "nbconvert_exporter": "python",
   "pygments_lexer": "ipython3",
   "version": "3.6.0"
  }
 },
 "nbformat": 4,
 "nbformat_minor": 0
}